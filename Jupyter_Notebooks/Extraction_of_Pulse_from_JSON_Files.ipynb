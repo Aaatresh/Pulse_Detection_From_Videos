{
 "cells": [
  {
   "cell_type": "markdown",
   "metadata": {},
   "source": [
    "# Extraction of Pulse from JSON Files\n",
    "\n",
    "Import all necessary libraries"
   ]
  },
  {
   "cell_type": "code",
   "execution_count": null,
   "metadata": {},
   "outputs": [],
   "source": [
    "import numpy as np\n",
    "import matplotlib.pyplot as plt\n",
    "import json\n",
    "import heartpy as hp"
   ]
  },
  {
   "cell_type": "markdown",
   "metadata": {},
   "source": [
    "# Specify path for the File and the Sampling Frequency"
   ]
  },
  {
   "cell_type": "code",
   "execution_count": null,
   "metadata": {},
   "outputs": [],
   "source": [
    "path = './Dataset/JSON/03-01.json'\n",
    "frequency = 60"
   ]
  },
  {
   "cell_type": "markdown",
   "metadata": {},
   "source": [
    "# Extract the Data\n",
    "\n",
    "In the  json file, there are sub parts<br/>\n",
    "The first part, '/FullPackage' contains the ground truth<br/>\n",
    "In '/FullPackage', each iterable is a dictionary<br/>\n",
    "\n",
    "\n",
    "Example of iterable['Value']<br/>\n",
    "*{'barGraph': 5, 'beep': False, 'droppingo2Sat': False, 'o2saturation': 95, 'probeError': False, 'pulseRate': 71, 'searching': False, 'searchingToLong': False, 'signalStrength': 4, 'waveform': 41}*\n",
    "\n",
    "The 'waveform' key contains the samples for the ECG signal"
   ]
  },
  {
   "cell_type": "code",
   "execution_count": null,
   "metadata": {},
   "outputs": [],
   "source": [
    "with open(path) as f:\n",
    "  data = json.load(f)\n",
    "print(\"File :: \", path)\n",
    "key = '/FullPackage'\n",
    "values = data[key]\n",
    "data = []\n",
    "for i in values:\n",
    "  data.append(i['Value']['waveform'])\n",
    "data = np.array(data)"
   ]
  },
  {
   "cell_type": "code",
   "execution_count": null,
   "metadata": {},
   "outputs": [],
   "source": [
    "# Display the Data with all essential parameters\n",
    "working_data, measures = hp.process(data, frequency)\n",
    "hp.plotter(working_data, measures)\n",
    "print(\"Average Beats Per Minute :: \", measures['bpm'])\n",
    "print(\"Number of Peaks :: \", len(working_data['peaklist']))"
   ]
  },
  {
   "cell_type": "code",
   "execution_count": null,
   "metadata": {},
   "outputs": [],
   "source": []
  }
 ],
 "metadata": {
  "kernelspec": {
   "display_name": "Python 3",
   "language": "python",
   "name": "python3"
  },
  "language_info": {
   "codemirror_mode": {
    "name": "ipython",
    "version": 3
   },
   "file_extension": ".py",
   "mimetype": "text/x-python",
   "name": "python",
   "nbconvert_exporter": "python",
   "pygments_lexer": "ipython3",
   "version": "3.6.9"
  }
 },
 "nbformat": 4,
 "nbformat_minor": 2
}
